{
 "cells": [
  {
   "cell_type": "code",
   "execution_count": null,
   "id": "08e595c1",
   "metadata": {
    "vscode": {
     "languageId": "plaintext"
    }
   },
   "outputs": [],
   "source": [
    "!pip install -q faiss-cpu sentence-transformers\n"
   ]
  },
  {
   "cell_type": "code",
   "execution_count": null,
   "id": "446b7596",
   "metadata": {
    "vscode": {
     "languageId": "plaintext"
    }
   },
   "outputs": [],
   "source": [
    "!git clone https://github.com/ShathaTm/LK-Hadith-Corpus.git"
   ]
  },
  {
   "cell_type": "code",
   "execution_count": null,
   "id": "23a6e20c",
   "metadata": {
    "vscode": {
     "languageId": "plaintext"
    }
   },
   "outputs": [],
   "source": [
    "import pandas as pd\n",
    "import glob"
   ]
  },
  {
   "cell_type": "code",
   "execution_count": null,
   "id": "fdf9bc42",
   "metadata": {
    "vscode": {
     "languageId": "plaintext"
    }
   },
   "outputs": [],
   "source": [
    "colnames = ['Chapter_Number', 'Chapter_English', 'Chapter_Arabic', 'Section_Number',\n",
    "       'Section_English', 'Section_Arabic', 'Hadith_number', 'English_Hadith',\n",
    "       'English_Isnad', 'English_Matn', 'Arabic_Hadith', 'Arabic_Isnad',\n",
    "       'Arabic_Matn', 'Arabic_Comment', 'English_Grade', 'Arabic_Grade']"
   ]
  },
  {
   "cell_type": "code",
   "execution_count": null,
   "id": "8fea8e5f",
   "metadata": {
    "vscode": {
     "languageId": "plaintext"
    }
   },
   "outputs": [],
   "source": [
    "path = '/content/LK-Hadith-Corpus'\n",
    "files = sorted(glob.glob(path + '//**//*.csv', recursive=True))"
   ]
  },
  {
   "cell_type": "code",
   "execution_count": null,
   "id": "94cc4664",
   "metadata": {
    "vscode": {
     "languageId": "plaintext"
    }
   },
   "outputs": [],
   "source": [
    "import re\n",
    "\n",
    "def clean_text(text):\n",
    "  text = text.lower()\n",
    "  text = re.sub(r'[^a-zA-Z0-9\\s]', '', text)\n",
    "  text = re.sub(r'\\s+', ' ', text)\n",
    "  return text"
   ]
  },
  {
   "cell_type": "code",
   "execution_count": null,
   "id": "a6a24035",
   "metadata": {
    "vscode": {
     "languageId": "plaintext"
    }
   },
   "outputs": [],
   "source": [
    "all_hadith = []\n",
    "for file in files:\n",
    "    df = pd.read_csv(file, names=colnames, skiprows=1)\n",
    "\n",
    "    if 'English_Hadith' in df.columns:\n",
    "        df['Clean_Hadith'] = df['English_Hadith'].astype(str).apply(clean_text)\n",
    "        all_hadith.extend(df[['Chapter_Number', 'Chapter_English', 'Section_Number',\n",
    "                              'Section_English', 'Hadith_number', 'English_Hadith',\n",
    "                              'Arabic_Hadith', 'Clean_Hadith', 'English_Grade']].values.tolist())"
   ]
  },
  {
   "cell_type": "code",
   "execution_count": null,
   "id": "c918a253",
   "metadata": {
    "vscode": {
     "languageId": "plaintext"
    }
   },
   "outputs": [],
   "source": [
    "hadith_df = pd.DataFrame(all_hadith, columns=[\n",
    "    'Chapter_Number', 'Chapter_English', 'Section_Number',\n",
    "    'Section_English', 'Hadith_number', 'English_Hadith',\n",
    "    'Arabic_Hadith', 'Clean_Hadith', 'English_Grade'\n",
    "])\n",
    "hadith_df.to_csv('cleaned_hadith_data.csv', index=False)\n"
   ]
  },
  {
   "cell_type": "code",
   "execution_count": null,
   "id": "fe63e72e",
   "metadata": {
    "vscode": {
     "languageId": "plaintext"
    }
   },
   "outputs": [],
   "source": [
    "from sentence_transformers import SentenceTransformer"
   ]
  },
  {
   "cell_type": "code",
   "execution_count": null,
   "id": "9fcfa82e",
   "metadata": {
    "vscode": {
     "languageId": "plaintext"
    }
   },
   "outputs": [],
   "source": [
    "model = SentenceTransformer('sentence-transformers/all-mpnet-base-v2')"
   ]
  },
  {
   "cell_type": "code",
   "execution_count": null,
   "id": "1f28f730",
   "metadata": {
    "vscode": {
     "languageId": "plaintext"
    }
   },
   "outputs": [],
   "source": [
    "\n",
    "embeddings = model.encode(hadith_df['Clean_Hadith'].values, show_progress_bar=True, convert_to_numpy=True)\n"
   ]
  },
  {
   "cell_type": "code",
   "execution_count": null,
   "id": "813c0f85",
   "metadata": {
    "vscode": {
     "languageId": "plaintext"
    }
   },
   "outputs": [],
   "source": [
    "\n",
    "import numpy as np\n",
    "np.save('hadith_embeddings.npy', embeddings)\n",
    "embeddings = np.load('hadith_embeddings.npy')\n"
   ]
  },
  {
   "cell_type": "code",
   "execution_count": null,
   "id": "273ac57d",
   "metadata": {
    "vscode": {
     "languageId": "plaintext"
    }
   },
   "outputs": [],
   "source": [
    "import faiss\n",
    "\n",
    "dimensions = embeddings.shape[1]\n",
    "faiss_index = faiss.IndexFlatL2(dimensions)\n",
    "\n",
    "faiss_index.add(embeddings)\n",
    "\n",
    "faiss.write_index(faiss_index, \"faiss_index.faiss\")\n"
   ]
  },
  {
   "cell_type": "code",
   "execution_count": null,
   "id": "c7e1ea2a",
   "metadata": {
    "vscode": {
     "languageId": "plaintext"
    }
   },
   "outputs": [],
   "source": [
    "def get_similar_hadith(query, model, faiss_index, count=3):\n",
    "    query_embedding = model.encode([query], convert_to_numpy=True)\n",
    "    distance, indices = faiss_index.search(query_embedding, count)\n",
    "\n",
    "    results = []\n",
    "    for i in range(count):\n",
    "        result = {\n",
    "            'arabic': hadith_df['Arabic_Hadith'].iloc[indices[0][i]],\n",
    "            'english': hadith_df['English_Hadith'].iloc[indices[0][i]],\n",
    "            'distance': float(distance[0][i])\n",
    "        }\n",
    "        results.append(result)\n",
    "\n",
    "    return results\n"
   ]
  },
  {
   "cell_type": "code",
   "execution_count": null,
   "id": "94c951aa",
   "metadata": {
    "vscode": {
     "languageId": "plaintext"
    }
   },
   "outputs": [],
   "source": [
    "results = get_similar_hadith(\"How many times we should pray?\", model, faiss_index, 5)\n",
    "for r in results:\n",
    "    print(\"🕌 Arabic:\", r['arabic'])\n",
    "    print(\"📖 English:\", r['english'])\n",
    "    print(\"📏 Distance:\", r['distance'], '\\n')\n"
   ]
  }
 ],
 "metadata": {
  "language_info": {
   "name": "python"
  }
 },
 "nbformat": 4,
 "nbformat_minor": 5
}
